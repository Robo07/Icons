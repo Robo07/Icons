{
  "cells": [
    {
      "cell_type": "markdown",
      "metadata": {
        "id": "view-in-github",
        "colab_type": "text"
      },
      "source": [
        "<a href=\"https://colab.research.google.com/github/Robo07/Icons/blob/main/icons.ipynb\" target=\"_parent\"><img src=\"https://colab.research.google.com/assets/colab-badge.svg\" alt=\"Open In Colab\"/></a>"
      ]
    },
    {
      "cell_type": "code",
      "execution_count": null,
      "metadata": {
        "colab": {
          "base_uri": "https://localhost:8080/"
        },
        "id": "4xQco5N9GNHO",
        "outputId": "e5e47814-0070-421a-aa87-8c3908925d28"
      },
      "outputs": [
        {
          "name": "stdout",
          "output_type": "stream",
          "text": [
            "Collecting bing-image-downloader\n",
            "  Downloading bing_image_downloader-1.1.2-py3-none-any.whl (5.9 kB)\n",
            "Installing collected packages: bing-image-downloader\n",
            "Successfully installed bing-image-downloader-1.1.2\n"
          ]
        }
      ],
      "source": [
        "!pip install bing-image-downloader"
      ]
    },
    {
      "cell_type": "code",
      "execution_count": null,
      "metadata": {
        "id": "LMBO3kgGLuvq"
      },
      "outputs": [],
      "source": [
        "from bing_image_downloader import downloader"
      ]
    },
    {
      "cell_type": "code",
      "execution_count": null,
      "metadata": {
        "id": "uBsKptVWLy7K"
      },
      "outputs": [],
      "source": [
        "#set the directory\n",
        "\n",
        "dir = '/content/drive/MyDrive/images_icons'"
      ]
    },
    {
      "cell_type": "code",
      "execution_count": null,
      "metadata": {
        "colab": {
          "base_uri": "https://localhost:8080/"
        },
        "id": "nZHwQp5ELy-m",
        "outputId": "1870fdc1-a8b7-4df1-f1e3-788717631322"
      },
      "outputs": [
        {
          "name": "stdout",
          "output_type": "stream",
          "text": [
            "[%] Downloading Images to /content/drive/MyDrive/images_icons/excel icon\n",
            "\n",
            "\n",
            "[!!]Indexing page: 1\n",
            "\n",
            "[%] Indexed 2 Images on Page 1.\n",
            "\n",
            "===============================================\n",
            "\n",
            "[%] Downloading Image #1 from https://www.shareicon.net/data/2016/06/24/618244_excel_2000x2000.png\n",
            "[%] File Downloaded !\n",
            "\n",
            "[%] Downloading Image #2 from https://i.pinimg.com/originals/f0/ba/ab/f0baabc7a94a50448da9fb2d9508d450.png\n",
            "[%] File Downloaded !\n",
            "\n",
            "\n",
            "\n",
            "[%] Done. Downloaded 2 images.\n"
          ]
        }
      ],
      "source": [
        "downloader.download('excel icon', limit = 2, output_dir = dir, adult_filter_off = True)"
      ]
    },
    {
      "cell_type": "code",
      "execution_count": null,
      "metadata": {
        "colab": {
          "base_uri": "https://localhost:8080/"
        },
        "id": "MS8KoY48elpH",
        "outputId": "761df77f-f495-4929-86c2-0d153a247255"
      },
      "outputs": [
        {
          "name": "stdout",
          "output_type": "stream",
          "text": [
            "Image successfully converted!\n"
          ]
        }
      ],
      "source": [
        "# Importing Library\n",
        "from PIL import Image\n",
        "\n",
        "# Loading the image\n",
        "image = Image.open('/content/drive/MyDrive/images_icons/excel icon/Image_1.png')\n",
        "\n",
        "# Specifying the RGB mode to the image\n",
        "image = image.convert('RGB')\n",
        "\n",
        "# Converting an image from PNG to JPG format\n",
        "image.save(\"/content/drive/MyDrive/images_icons/excel icon/Image_1.jpeg\")\n",
        "print(\"Image successfully converted!\")"
      ]
    },
    {
      "cell_type": "code",
      "execution_count": null,
      "metadata": {
        "colab": {
          "background_save": true,
          "base_uri": "https://localhost:8080/",
          "height": 403
        },
        "id": "WvWhYY2cdRKa",
        "outputId": "57ecb9bd-0a2b-424c-f75d-a27d521fae58"
      },
      "outputs": [
        {
          "name": "stdout",
          "output_type": "stream",
          "text": [
            "Edge detection completed.\n"
          ]
        }
      ],
      "source": [
        "from PIL import Image\n",
        "\n",
        "def find_edges(image, threshold=30):\n",
        "    width, height = image.size\n",
        "    grayscale_image = image.convert(\"L\")\n",
        "    pixels = grayscale_image.load()\n",
        "\n",
        "    edges = Image.new(\"L\", (width, height))\n",
        "    edge_pixels = edges.load()\n",
        "\n",
        "    for x in range(1, width - 1):\n",
        "        for y in range(1, height - 1):\n",
        "            gx = (\n",
        "                pixels[x + 1, y - 1]\n",
        "                + 2 * pixels[x + 1, y]\n",
        "                + pixels[x + 1, y + 1]\n",
        "                - pixels[x - 1, y - 1]\n",
        "                - 2 * pixels[x - 1, y]\n",
        "                - pixels[x - 1, y + 1]\n",
        "            )\n",
        "            gy = (\n",
        "                pixels[x - 1, y + 1]\n",
        "                + 2 * pixels[x, y + 1]\n",
        "                + pixels[x + 1, y + 1]\n",
        "                - pixels[x - 1, y - 1]\n",
        "                - 2 * pixels[x, y - 1]\n",
        "                - pixels[x + 1, y - 1]\n",
        "            )\n",
        "            edge_strength = (gx ** 2 + gy ** 2) ** 0.5\n",
        "            edge_pixels[x, y] = 255 if edge_strength > threshold else 0\n",
        "\n",
        "    return edges\n",
        "\n",
        "# Load the image\n",
        "image = Image.open('/content/drive/MyDrive/images_icons/excel icon/Image_1.png')\n",
        "\n",
        "# Perform edge detection\n",
        "edges = find_edges(image)\n",
        "\n",
        "# Save the edges image\n",
        "edges.save('/content/drive/MyDrive/images_icons/excel icon/Image_1_reworked.png')\n",
        "\n",
        "print(\"Edge detection completed.\")"
      ]
    }
  ],
  "metadata": {
    "colab": {
      "provenance": [],
      "mount_file_id": "1IYnJ1w6Yr0-_OuB6gIg5GDOq4pQmtbCO",
      "authorship_tag": "ABX9TyOoF7fJZUxyqn+hsOkSm2zC",
      "include_colab_link": true
    },
    "kernelspec": {
      "display_name": "Python 3",
      "name": "python3"
    },
    "language_info": {
      "name": "python"
    }
  },
  "nbformat": 4,
  "nbformat_minor": 0
}